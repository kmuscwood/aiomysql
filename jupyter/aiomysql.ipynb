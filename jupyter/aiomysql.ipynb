{
 "cells": [
  {
   "cell_type": "markdown",
   "metadata": {},
   "source": [
    "### start\n",
    "`run --net=test -v $HOME/git:/opt/git -e PYTHONPATH=/opt/git/aiomysql -p 8888:8888 -w /opt/git/aiomysql jupyter/minimal-notebook`\n",
    "### notes\n",
    "* this notebook already has an event loop running, so `await` just works\n",
    "* run the notebook on the same docker network (`--net`) as the `mysql` container"
   ]
  },
  {
   "cell_type": "code",
   "execution_count": 1,
   "metadata": {},
   "outputs": [],
   "source": [
    "from aiomysql.connection import MysqlConnection"
   ]
  },
  {
   "cell_type": "code",
   "execution_count": 2,
   "metadata": {},
   "outputs": [
    {
     "name": "stdout",
     "output_type": "stream",
     "text": [
      "Help on method connect in module aiomysql.connection:\n",
      "\n",
      "async connect(host, user, password='', database='', port=3306, autocommit=False, isolation=None) method of builtins.type instance\n",
      "    connect and authenticate to mysql\n",
      "    \n",
      "    host       - hostname or IP address of mysql server\n",
      "    user       - mysql user\n",
      "    password   - password for mysql user\n",
      "    database   - name of database\n",
      "    port       - mysql listening port\n",
      "    autocommit - autocommit for connection (else per mysql)\n",
      "    isolation  - isolation level for connection (else per mysql)\n",
      "                 (eg: \"REPEATABLE READ\", \"READ UNCOMMITED\" ...)\n",
      "    \n",
      "    Return:\n",
      "        aiomysql.connection.MysqlConnection instance\n",
      "    \n",
      "    Notes:\n",
      "        * the connection remains open until closed by the mysql server,\n",
      "          or until the close method is called\n",
      "\n"
     ]
    }
   ],
   "source": [
    "help(MysqlConnection.connect)"
   ]
  },
  {
   "cell_type": "code",
   "execution_count": 3,
   "metadata": {},
   "outputs": [],
   "source": [
    "con = await MysqlConnection.connect(\"mysql\", \"test\")"
   ]
  },
  {
   "cell_type": "code",
   "execution_count": 4,
   "metadata": {},
   "outputs": [],
   "source": [
    "columns, rows = await con.execute(\"select now() as time\")"
   ]
  },
  {
   "cell_type": "code",
   "execution_count": 5,
   "metadata": {},
   "outputs": [
    {
     "data": {
      "text/plain": [
       "['time']"
      ]
     },
     "execution_count": 5,
     "metadata": {},
     "output_type": "execute_result"
    }
   ],
   "source": [
    "columns"
   ]
  },
  {
   "cell_type": "code",
   "execution_count": 6,
   "metadata": {},
   "outputs": [
    {
     "data": {
      "text/plain": [
       "[[datetime.datetime(2021, 1, 6, 21, 24, 1)]]"
      ]
     },
     "execution_count": 6,
     "metadata": {},
     "output_type": "execute_result"
    }
   ],
   "source": [
    "rows"
   ]
  },
  {
   "cell_type": "code",
   "execution_count": 7,
   "metadata": {},
   "outputs": [
    {
     "name": "stdout",
     "output_type": "stream",
     "text": [
      "Help on method execute in module aiomysql.connection:\n",
      "\n",
      "async execute(query) method of aiomysql.connection.MysqlConnection instance\n",
      "    execute a SQL command and return any result\n",
      "    \n",
      "    query - command to be executed\n",
      "    \n",
      "    Return:\n",
      "        [column names], [[row], ...]\n",
      "    \n",
      "    Notes:\n",
      "        * for non-SELECT commands the return will be two empty lists\n",
      "        * if an INSERT with AUTOINCREMENT occurs, the autoincrement\n",
      "          value is available by calling the last_id method\n",
      "        * if the command generates a message, the message is available\n",
      "          by calling the last_message method\n",
      "\n"
     ]
    }
   ],
   "source": [
    "help(con.execute)"
   ]
  },
  {
   "cell_type": "code",
   "execution_count": 8,
   "metadata": {},
   "outputs": [
    {
     "data": {
      "text/plain": [
       "(['Field', 'Type', 'Null', 'Key', 'Default', 'Extra'],\n",
       " [['id', 'int(11)', 'NO', 'PRI', None, 'auto_increment'],\n",
       "  ['create_time', 'timestamp', 'NO', '', 'CURRENT_TIMESTAMP', ''],\n",
       "  ['update_time',\n",
       "   'timestamp',\n",
       "   'NO',\n",
       "   '',\n",
       "   'CURRENT_TIMESTAMP',\n",
       "   'on update CURRENT_TIMESTAMP'],\n",
       "  ['name', 'varchar(50)', 'NO', 'UNI', None, ''],\n",
       "  ['email', 'varchar(50)', 'YES', 'UNI', None, '']])"
      ]
     },
     "execution_count": 8,
     "metadata": {},
     "output_type": "execute_result"
    }
   ],
   "source": [
    "await con.execute(\"use bob\")\n",
    "await con.execute(\"desc person\")"
   ]
  },
  {
   "cell_type": "code",
   "execution_count": 9,
   "metadata": {},
   "outputs": [
    {
     "data": {
      "text/plain": [
       "([], [])"
      ]
     },
     "execution_count": 9,
     "metadata": {},
     "output_type": "execute_result"
    }
   ],
   "source": [
    "await con.execute(\"INSERT INTO person (name) VALUES ('bob')\")"
   ]
  },
  {
   "cell_type": "code",
   "execution_count": 10,
   "metadata": {},
   "outputs": [
    {
     "data": {
      "text/plain": [
       "4"
      ]
     },
     "execution_count": 10,
     "metadata": {},
     "output_type": "execute_result"
    }
   ],
   "source": [
    "con.last_id()"
   ]
  },
  {
   "cell_type": "code",
   "execution_count": 11,
   "metadata": {},
   "outputs": [
    {
     "data": {
      "text/plain": [
       "''"
      ]
     },
     "execution_count": 11,
     "metadata": {},
     "output_type": "execute_result"
    }
   ],
   "source": [
    "con.last_message()"
   ]
  },
  {
   "cell_type": "code",
   "execution_count": 12,
   "metadata": {},
   "outputs": [
    {
     "data": {
      "text/plain": [
       "(['id', 'create_time', 'update_time', 'name', 'email'],\n",
       " [[4,\n",
       "   datetime.datetime(2021, 1, 6, 21, 24, 1),\n",
       "   datetime.datetime(2021, 1, 6, 21, 24, 1),\n",
       "   'bob',\n",
       "   None]])"
      ]
     },
     "execution_count": 12,
     "metadata": {},
     "output_type": "execute_result"
    }
   ],
   "source": [
    "await con.execute(\"select * from person\")"
   ]
  }
 ],
 "metadata": {
  "kernelspec": {
   "display_name": "Python 3",
   "language": "python",
   "name": "python3"
  },
  "language_info": {
   "codemirror_mode": {
    "name": "ipython",
    "version": 3
   },
   "file_extension": ".py",
   "mimetype": "text/x-python",
   "name": "python",
   "nbconvert_exporter": "python",
   "pygments_lexer": "ipython3",
   "version": "3.8.5"
  }
 },
 "nbformat": 4,
 "nbformat_minor": 4
}
